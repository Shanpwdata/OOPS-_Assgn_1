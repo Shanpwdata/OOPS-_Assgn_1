{
 "cells": [
  {
   "cell_type": "markdown",
   "id": "feb49aa7-63ea-4947-8e38-5fb906b87d36",
   "metadata": {},
   "source": [
    "Q1. Explain Class and Object with respect to Object-Oriented Programming. Give a suitable example."
   ]
  },
  {
   "cell_type": "markdown",
   "id": "1863febd-4d5c-40aa-8629-8fbdeb78f67e",
   "metadata": {},
   "source": [
    "#Ans_1.\n",
    "In object-oriented programming (OOP), a class is a blueprint or template for creating objects, while an object is an instance of a class. A class defines the properties (attributes) and behaviors (methods) that objects of that class can have."
   ]
  },
  {
   "cell_type": "code",
   "execution_count": 3,
   "id": "6430728c-dc52-4dd2-936b-f195bfddf95b",
   "metadata": {},
   "outputs": [],
   "source": [
    "#Ex.\n",
    "class design_car :\n",
    "    def __init__(self, car_model, car_color):\n",
    "        self.car_model = car_model\n",
    "        self.car_color = car_color\n",
    "        \n",
    "    def model_car(self):\n",
    "        print(f\"The car is {self.car_model}\")\n",
    "        \n",
    "    def color_car(self):\n",
    "        print(f\"The car color is {self.car_color}\")"
   ]
  },
  {
   "cell_type": "code",
   "execution_count": 4,
   "id": "9063cc2c-4763-4d45-bcb5-10910e6dae15",
   "metadata": {},
   "outputs": [],
   "source": [
    "car = design_car(\"Maruti\", \"Blue\")"
   ]
  },
  {
   "cell_type": "code",
   "execution_count": 6,
   "id": "0b5e2d88-c4b6-45c5-8739-41e805391750",
   "metadata": {},
   "outputs": [
    {
     "name": "stdout",
     "output_type": "stream",
     "text": [
      "The car is Maruti\n"
     ]
    }
   ],
   "source": [
    "car.model_car()"
   ]
  },
  {
   "cell_type": "code",
   "execution_count": 8,
   "id": "4b38b953-4a01-4647-85fe-5709e47dc40a",
   "metadata": {},
   "outputs": [
    {
     "name": "stdout",
     "output_type": "stream",
     "text": [
      "The car color is Blue\n"
     ]
    }
   ],
   "source": [
    "car.color_car()"
   ]
  },
  {
   "cell_type": "code",
   "execution_count": 9,
   "id": "534fe63a-cce4-42a4-88a6-17dba45d5f00",
   "metadata": {},
   "outputs": [
    {
     "data": {
      "text/plain": [
       "'Maruti'"
      ]
     },
     "execution_count": 9,
     "metadata": {},
     "output_type": "execute_result"
    }
   ],
   "source": [
    "car.car_model"
   ]
  },
  {
   "cell_type": "code",
   "execution_count": 10,
   "id": "962dcee3-9971-4c58-9b4d-10ca4e08f27b",
   "metadata": {},
   "outputs": [
    {
     "data": {
      "text/plain": [
       "'Blue'"
      ]
     },
     "execution_count": 10,
     "metadata": {},
     "output_type": "execute_result"
    }
   ],
   "source": [
    "car.car_color"
   ]
  },
  {
   "cell_type": "markdown",
   "id": "c05e2dd4-36e5-4685-9218-0d4daf259879",
   "metadata": {},
   "source": [
    "Q2. Name the four pillars of OOPs."
   ]
  },
  {
   "cell_type": "markdown",
   "id": "ea981013-4760-459a-8c1a-3719644aa26b",
   "metadata": {},
   "source": [
    "#Ans_2.\n",
    "The four pillars of object-oriented programming (OOPs) are:\n",
    "\n",
    "1. Polymorphism\n",
    "2. Encapsulation\n",
    "3. Inheritance\n",
    "4. Abstraction"
   ]
  },
  {
   "cell_type": "markdown",
   "id": "23ab3968-597c-44ee-ad95-268f72a90605",
   "metadata": {},
   "source": [
    "Q3. Explain why the __init__() function is used. Give a suitable example."
   ]
  },
  {
   "cell_type": "markdown",
   "id": "2dd25cc4-3568-4e96-837e-5fe13a551ad9",
   "metadata": {},
   "source": [
    "#Ans_3.\n",
    "The init{} is used to initialize the attributes or properties of an object when it is created. It is also known as the constructor method because it is automatically called when a new instance of a class is created."
   ]
  },
  {
   "cell_type": "code",
   "execution_count": 11,
   "id": "a29b5502-774b-4e0b-a647-be59b592ea53",
   "metadata": {},
   "outputs": [],
   "source": [
    "#Ex.\n",
    "class a_person:\n",
    "    \n",
    "    def __init__(self, Name, Age):\n",
    "        self.Name = Name\n",
    "        self.Age = Age\n",
    "        \n",
    "    def display_person(self):\n",
    "        print (f\"The person is {self.Name} with {self.Age} years old.\")"
   ]
  },
  {
   "cell_type": "code",
   "execution_count": 12,
   "id": "41bf41ed-273c-4f0d-a796-40d6b772e0c5",
   "metadata": {},
   "outputs": [],
   "source": [
    "person = a_person(\"Shantam\",29)"
   ]
  },
  {
   "cell_type": "code",
   "execution_count": 13,
   "id": "aa55c6ec-50a3-4983-8c85-705aa35e5b6e",
   "metadata": {},
   "outputs": [
    {
     "name": "stdout",
     "output_type": "stream",
     "text": [
      "The person is Shantam with 29 years old.\n"
     ]
    }
   ],
   "source": [
    "person.display_person()"
   ]
  },
  {
   "cell_type": "markdown",
   "id": "bccdfa22-3262-469c-b044-49a683243708",
   "metadata": {},
   "source": [
    "Q4. Why self is used in OOPs?"
   ]
  },
  {
   "cell_type": "markdown",
   "id": "24280122-5d83-4127-9feb-f6ed1fa547f1",
   "metadata": {},
   "source": [
    "#Ans_4.\n",
    "self is not reversed keyword When a method is called on an object, self is used to access and manipulate the object's attributes. It allows you to refer to the specific instance of the class and access its unique set of attributes."
   ]
  },
  {
   "cell_type": "markdown",
   "id": "c7fa5b65-82f0-4e6f-80f0-1e5b451be05f",
   "metadata": {},
   "source": [
    "Q5. What is inheritance? Give an example for each type of inheritance."
   ]
  },
  {
   "cell_type": "markdown",
   "id": "31ed0e5e-a10a-4f18-9ba9-336a7f5b3359",
   "metadata": {},
   "source": [
    "#Ans_5.\n",
    "Inheritance in (OOPS) that allows a class to inherit properties and behaviors from another class. Two types if Inheritance is:\n",
    "1. Single level inheritance\n",
    "2. Multi level inheritance"
   ]
  },
  {
   "cell_type": "code",
   "execution_count": 29,
   "id": "72cec4a8-f9d1-484f-8c74-cc523559e38f",
   "metadata": {},
   "outputs": [],
   "source": [
    "#Ex.\n",
    "class person1:\n",
    "        \n",
    "    def display_person1(self):\n",
    "        print (f\"The person1 is here\")"
   ]
  },
  {
   "cell_type": "code",
   "execution_count": 30,
   "id": "fa4cb107-2a27-4e7f-a719-a0a97b6091f6",
   "metadata": {},
   "outputs": [],
   "source": [
    "class person2(person1):\n",
    "        \n",
    "    def display_person2(self):\n",
    "        print (f\"The person2 is here\")"
   ]
  },
  {
   "cell_type": "code",
   "execution_count": 31,
   "id": "b91e577b-b181-43f1-a859-e9e49c85be0e",
   "metadata": {},
   "outputs": [],
   "source": [
    "class person3(person2):\n",
    "        pass"
   ]
  },
  {
   "cell_type": "code",
   "execution_count": 32,
   "id": "8ff68496-933b-47e7-8b81-5ad3d7564027",
   "metadata": {},
   "outputs": [],
   "source": [
    "obj_3 = person3()"
   ]
  },
  {
   "cell_type": "code",
   "execution_count": 33,
   "id": "2800d283-1f53-48db-9a15-ca2978ea5ea9",
   "metadata": {},
   "outputs": [
    {
     "name": "stdout",
     "output_type": "stream",
     "text": [
      "The person1 is here\n"
     ]
    }
   ],
   "source": [
    "obj_3.display_person1()"
   ]
  },
  {
   "cell_type": "code",
   "execution_count": 34,
   "id": "4e9e3d7e-110a-4964-8208-77d680fe82f0",
   "metadata": {},
   "outputs": [
    {
     "name": "stdout",
     "output_type": "stream",
     "text": [
      "The person2 is here\n"
     ]
    }
   ],
   "source": [
    "obj_3.display_person2()"
   ]
  },
  {
   "cell_type": "code",
   "execution_count": null,
   "id": "77466abf-a654-409c-8a61-a64b86e9b8d8",
   "metadata": {},
   "outputs": [],
   "source": []
  }
 ],
 "metadata": {
  "kernelspec": {
   "display_name": "Python 3 (ipykernel)",
   "language": "python",
   "name": "python3"
  },
  "language_info": {
   "codemirror_mode": {
    "name": "ipython",
    "version": 3
   },
   "file_extension": ".py",
   "mimetype": "text/x-python",
   "name": "python",
   "nbconvert_exporter": "python",
   "pygments_lexer": "ipython3",
   "version": "3.10.8"
  }
 },
 "nbformat": 4,
 "nbformat_minor": 5
}
